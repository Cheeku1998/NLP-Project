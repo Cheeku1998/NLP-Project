{
  "nbformat": 4,
  "nbformat_minor": 0,
  "metadata": {
    "colab": {
      "provenance": [],
      "authorship_tag": "ABX9TyMyRruIuAiYZYq/3kzLaw6R",
      "include_colab_link": true
    },
    "kernelspec": {
      "name": "python3",
      "display_name": "Python 3"
    },
    "language_info": {
      "name": "python"
    }
  },
  "cells": [
    {
      "cell_type": "markdown",
      "metadata": {
        "id": "view-in-github",
        "colab_type": "text"
      },
      "source": [
        "<a href=\"https://colab.research.google.com/github/Cheeku1998/NLP-Project/blob/main/Automatic_text_summarization_and_keyword_extraction_using_genism_and_python.ipynb\" target=\"_parent\"><img src=\"https://colab.research.google.com/assets/colab-badge.svg\" alt=\"Open In Colab\"/></a>"
      ]
    },
    {
      "cell_type": "code",
      "execution_count": null,
      "metadata": {
        "id": "ev-P3qvk3UWM"
      },
      "outputs": [],
      "source": [
        "# import the gensim module and summarize function\n",
        "from gensim.summarization.summarizer import summarize \n",
        "from gensim.summarization import keywords\n"
      ]
    },
    {
      "cell_type": "code",
      "source": [
        "# Paragraph\n",
        "paragraph = \"Natural language processing (NLP) is the ability of a computer program to understand human language as it is spoken. NLP is a component of artificial intelligence (AI). The development of NLP applications is challenging because computers traditionally require humans to 'speak' to them in a programming language that is precise, unambiguous and highly structured, or through a limited number of clearly enunciated voice commands. Human speech, however, is not always precise, it is often ambiguous and the linguistic structure can depend on many complex variables, including slang, regional dialects and social context.\"\n"
      ],
      "metadata": {
        "id": "S_fgCVef81tq"
      },
      "execution_count": null,
      "outputs": []
    },
    {
      "cell_type": "code",
      "source": [
        "len_text=len(paragraph)\n",
        "len_text"
      ],
      "metadata": {
        "colab": {
          "base_uri": "https://localhost:8080/"
        },
        "id": "jlej0B0v9Q8T",
        "outputId": "363d8d2f-747e-4612-a0cb-cb928597bb2f"
      },
      "execution_count": null,
      "outputs": [
        {
          "output_type": "execute_result",
          "data": {
            "text/plain": [
              "619"
            ]
          },
          "metadata": {},
          "execution_count": 42
        }
      ]
    },
    {
      "cell_type": "code",
      "source": [
        "#word count\n",
        "word_text=len(paragraph.split())\n",
        "word_text"
      ],
      "metadata": {
        "colab": {
          "base_uri": "https://localhost:8080/"
        },
        "id": "ogPuuUiL9dER",
        "outputId": "03e15790-dbd3-4823-c4f6-ce14075f8e2a"
      },
      "execution_count": null,
      "outputs": [
        {
          "output_type": "execute_result",
          "data": {
            "text/plain": [
              "92"
            ]
          },
          "metadata": {},
          "execution_count": 43
        }
      ]
    },
    {
      "cell_type": "code",
      "source": [
        "# Get the Summary of the text based on percentage (0.5% of the original content). \n",
        "summ_per = summarize(paragraph, ratio = 0.5) \n",
        "print(\"Percent summary:\") \n",
        "print(summ_per) \n"
      ],
      "metadata": {
        "colab": {
          "base_uri": "https://localhost:8080/"
        },
        "id": "eMJuyjMi85jC",
        "outputId": "d91ab8c4-4897-44a0-ad0b-3a9fd0d2803a"
      },
      "execution_count": null,
      "outputs": [
        {
          "output_type": "stream",
          "name": "stderr",
          "text": [
            "WARNING:gensim.summarization.summarizer:Input text is expected to have at least 10 sentences.\n",
            "WARNING:gensim.summarization.summarizer:Input corpus is expected to have at least 10 documents.\n"
          ]
        },
        {
          "output_type": "stream",
          "name": "stdout",
          "text": [
            "Percent summary:\n",
            "Natural language processing (NLP) is the ability of a computer program to understand human language as it is spoken.\n",
            "The development of NLP applications is challenging because computers traditionally require humans to 'speak' to them in a programming language that is precise, unambiguous and highly structured, or through a limited number of clearly enunciated voice commands.\n"
          ]
        }
      ]
    },
    {
      "cell_type": "code",
      "source": [
        "#check wheather a given word is in the summary\n",
        "summ_per in paragraph"
      ],
      "metadata": {
        "colab": {
          "base_uri": "https://localhost:8080/"
        },
        "id": "EDYdYCvJCc2P",
        "outputId": "f9c67cea-f100-40ae-deac-d1ae5158027b"
      },
      "execution_count": null,
      "outputs": [
        {
          "output_type": "execute_result",
          "data": {
            "text/plain": [
              "False"
            ]
          },
          "metadata": {},
          "execution_count": 45
        }
      ]
    },
    {
      "cell_type": "code",
      "source": [
        "\n",
        "'Natural' in paragraph"
      ],
      "metadata": {
        "colab": {
          "base_uri": "https://localhost:8080/"
        },
        "id": "Z7h3HtsZC76Q",
        "outputId": "1a93bbdd-f4a1-4d5a-b6cc-0cb0cbd40c01"
      },
      "execution_count": null,
      "outputs": [
        {
          "output_type": "execute_result",
          "data": {
            "text/plain": [
              "True"
            ]
          },
          "metadata": {},
          "execution_count": 46
        }
      ]
    },
    {
      "cell_type": "code",
      "source": [
        "paragraph.find('Natural')"
      ],
      "metadata": {
        "colab": {
          "base_uri": "https://localhost:8080/"
        },
        "id": "VXRQDf-2DWV-",
        "outputId": "0e5d2590-7339-4077-f943-660f09b7a3ff"
      },
      "execution_count": null,
      "outputs": [
        {
          "output_type": "execute_result",
          "data": {
            "text/plain": [
              "0"
            ]
          },
          "metadata": {},
          "execution_count": 47
        }
      ]
    },
    {
      "cell_type": "code",
      "source": [
        "len_summ=len(summ_per)\n",
        "len_summ\n",
        "\n",
        "#word count\n",
        "word_summ=len(summ_per.split())\n",
        "word_summ"
      ],
      "metadata": {
        "colab": {
          "base_uri": "https://localhost:8080/"
        },
        "id": "Ysd-hQ2w958Y",
        "outputId": "e99b90fd-7c56-4f7f-cae8-1842172d8995"
      },
      "execution_count": null,
      "outputs": [
        {
          "output_type": "execute_result",
          "data": {
            "text/plain": [
              "56"
            ]
          },
          "metadata": {},
          "execution_count": 48
        }
      ]
    },
    {
      "cell_type": "code",
      "source": [
        "# Get the summary of the text based on number of words (50 words) \n",
        "summ_words = summarize(paragraph, word_count = 50) \n",
        "print(\"\\n\")\n",
        "print(\"Word count summary:\") \n",
        "print(summ_words) "
      ],
      "metadata": {
        "colab": {
          "base_uri": "https://localhost:8080/"
        },
        "id": "XVb5SXs987o2",
        "outputId": "d460fff8-2825-45f0-902b-d404ab1d9abf"
      },
      "execution_count": null,
      "outputs": [
        {
          "output_type": "stream",
          "name": "stderr",
          "text": [
            "WARNING:gensim.summarization.summarizer:Input text is expected to have at least 10 sentences.\n",
            "WARNING:gensim.summarization.summarizer:Input corpus is expected to have at least 10 documents.\n"
          ]
        },
        {
          "output_type": "stream",
          "name": "stdout",
          "text": [
            "\n",
            "\n",
            "Word count summary:\n",
            "Natural language processing (NLP) is the ability of a computer program to understand human language as it is spoken.\n",
            "The development of NLP applications is challenging because computers traditionally require humans to 'speak' to them in a programming language that is precise, unambiguous and highly structured, or through a limited number of clearly enunciated voice commands.\n"
          ]
        }
      ]
    },
    {
      "cell_type": "code",
      "source": [
        "len(summ_words.split())"
      ],
      "metadata": {
        "colab": {
          "base_uri": "https://localhost:8080/"
        },
        "id": "bQQ8xmmb-R0_",
        "outputId": "227566f1-a0c0-4157-9b01-22ce5dee87a6"
      },
      "execution_count": null,
      "outputs": [
        {
          "output_type": "execute_result",
          "data": {
            "text/plain": [
              "56"
            ]
          },
          "metadata": {},
          "execution_count": 50
        }
      ]
    },
    {
      "cell_type": "code",
      "source": [
        "#method using index\n",
        "paragraph.index('language')"
      ],
      "metadata": {
        "colab": {
          "base_uri": "https://localhost:8080/"
        },
        "id": "c_0RS_v5hrpZ",
        "outputId": "0c491c38-358f-4198-c7e9-437d0f7d9cec"
      },
      "execution_count": null,
      "outputs": [
        {
          "output_type": "execute_result",
          "data": {
            "text/plain": [
              "8"
            ]
          },
          "metadata": {},
          "execution_count": 51
        }
      ]
    },
    {
      "cell_type": "code",
      "source": [
        "#start of extracted text\n",
        "paragraph[8:]"
      ],
      "metadata": {
        "colab": {
          "base_uri": "https://localhost:8080/",
          "height": 91
        },
        "id": "AKAL0484iIab",
        "outputId": "6cf5d9a8-13d0-4b5d-e860-e850c921a565"
      },
      "execution_count": null,
      "outputs": [
        {
          "output_type": "execute_result",
          "data": {
            "text/plain": [
              "\"language processing (NLP) is the ability of a computer program to understand human language as it is spoken. NLP is a component of artificial intelligence (AI). The development of NLP applications is challenging because computers traditionally require humans to 'speak' to them in a programming language that is precise, unambiguous and highly structured, or through a limited number of clearly enunciated voice commands. Human speech, however, is not always precise, it is often ambiguous and the linguistic structure can depend on many complex variables, including slang, regional dialects and social context.\""
            ],
            "application/vnd.google.colaboratory.intrinsic+json": {
              "type": "string"
            }
          },
          "metadata": {},
          "execution_count": 52
        }
      ]
    },
    {
      "cell_type": "markdown",
      "source": [
        "Method 3\n",
        "\n",
        "\n",
        "*   Split Sentences\n",
        "\n",
        "*   Find location in our list of sentences\n",
        "\n"
      ],
      "metadata": {
        "id": "j-aHGf4KiXzL"
      }
    },
    {
      "cell_type": "code",
      "source": [
        "from gensim.summarization.textcleaner import split_sentences"
      ],
      "metadata": {
        "id": "VjfK69Jaii5f"
      },
      "execution_count": null,
      "outputs": []
    },
    {
      "cell_type": "code",
      "source": [
        "#split sentences\n",
        "split_sentences(paragraph)"
      ],
      "metadata": {
        "colab": {
          "base_uri": "https://localhost:8080/"
        },
        "id": "TIyVtCPEivgH",
        "outputId": "5fcdf736-7ae4-4b84-bb65-bab491f9c927"
      },
      "execution_count": null,
      "outputs": [
        {
          "output_type": "execute_result",
          "data": {
            "text/plain": [
              "['Natural language processing (NLP) is the ability of a computer program to understand human language as it is spoken.',\n",
              " 'NLP is a component of artificial intelligence (AI).',\n",
              " \"The development of NLP applications is challenging because computers traditionally require humans to 'speak' to them in a programming language that is precise, unambiguous and highly structured, or through a limited number of clearly enunciated voice commands.\",\n",
              " 'Human speech, however, is not always precise, it is often ambiguous and the linguistic structure can depend on many complex variables, including slang, regional dialects and social context.']"
            ]
          },
          "metadata": {},
          "execution_count": 54
        }
      ]
    },
    {
      "cell_type": "code",
      "source": [
        "#list of all senetnces\n",
        "all_senetnces=split_sentences(paragraph)"
      ],
      "metadata": {
        "id": "UwTybQYgjLvT"
      },
      "execution_count": null,
      "outputs": []
    },
    {
      "cell_type": "code",
      "source": [
        "#is our summaryin our list\n",
        "'NLP is a component of artificial intelligence (AI).' in all_senetnces\n"
      ],
      "metadata": {
        "colab": {
          "base_uri": "https://localhost:8080/"
        },
        "id": "hmt3rcm0jSvx",
        "outputId": "1828a32a-0a47-4fe0-ee03-2b024ae9f907"
      },
      "execution_count": null,
      "outputs": [
        {
          "output_type": "execute_result",
          "data": {
            "text/plain": [
              "True"
            ]
          },
          "metadata": {},
          "execution_count": 56
        }
      ]
    },
    {
      "cell_type": "code",
      "source": [
        "all_senetnces.index('NLP is a component of artificial intelligence (AI).')"
      ],
      "metadata": {
        "colab": {
          "base_uri": "https://localhost:8080/"
        },
        "id": "KrlOM54vj7u0",
        "outputId": "033becc6-87a2-4fc3-adf0-5c61c256cc37"
      },
      "execution_count": null,
      "outputs": [
        {
          "output_type": "execute_result",
          "data": {
            "text/plain": [
              "1"
            ]
          },
          "metadata": {},
          "execution_count": 57
        }
      ]
    },
    {
      "cell_type": "markdown",
      "source": [
        "KEYWORD EXTRACTION"
      ],
      "metadata": {
        "id": "sU1u3GuSk3dK"
      }
    },
    {
      "cell_type": "code",
      "source": [
        "!pip install keywords\n"
      ],
      "metadata": {
        "colab": {
          "base_uri": "https://localhost:8080/"
        },
        "id": "ggvSWnWbk0xU",
        "outputId": "9c90c909-32fe-44f3-f65b-0435fcec5e60"
      },
      "execution_count": null,
      "outputs": [
        {
          "output_type": "stream",
          "name": "stdout",
          "text": [
            "Looking in indexes: https://pypi.org/simple, https://us-python.pkg.dev/colab-wheels/public/simple/\n",
            "Requirement already satisfied: keywords in /usr/local/lib/python3.8/dist-packages (0.0.1)\n"
          ]
        }
      ]
    },
    {
      "cell_type": "code",
      "source": [
        "Keywords_txt=keywords(paragraph)\n",
        "Keywords_txt"
      ],
      "metadata": {
        "colab": {
          "base_uri": "https://localhost:8080/",
          "height": 36
        },
        "id": "b8MH1mjDlvY4",
        "outputId": "60835210-d3ce-408e-d852-7f7e4f328c22"
      },
      "execution_count": null,
      "outputs": [
        {
          "output_type": "execute_result",
          "data": {
            "text/plain": [
              "'human\\nhumans\\nlanguage\\nnlp\\nstructured\\nstructure\\nregional\\nvariables'"
            ],
            "application/vnd.google.colaboratory.intrinsic+json": {
              "type": "string"
            }
          },
          "metadata": {},
          "execution_count": 66
        }
      ]
    }
  ]
}